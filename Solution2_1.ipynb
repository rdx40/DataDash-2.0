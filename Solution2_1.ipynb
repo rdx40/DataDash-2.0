{
  "nbformat": 4,
  "nbformat_minor": 0,
  "metadata": {
    "colab": {
      "provenance": []
    },
    "kernelspec": {
      "name": "python3",
      "display_name": "Python 3"
    },
    "language_info": {
      "name": "python"
    }
  },
  "cells": [
    {
      "cell_type": "code",
      "execution_count": 2,
      "metadata": {
        "colab": {
          "base_uri": "https://localhost:8080/"
        },
        "id": "0Vec8jzZlVjE",
        "outputId": "87409058-8f1b-4cb6-80e6-c9e74681937e"
      },
      "outputs": [
        {
          "output_type": "stream",
          "name": "stdout",
          "text": [
            "Validation Accuracy: 0.885538562020356\n"
          ]
        }
      ],
      "source": [
        "import pandas as pd\n",
        "from sklearn.ensemble import RandomForestClassifier\n",
        "from sklearn.model_selection import train_test_split\n",
        "from sklearn.metrics import accuracy_score\n",
        "from sklearn.impute import SimpleImputer\n",
        "\n",
        "# File paths\n",
        "data1_path = '/content/data1.csv'\n",
        "data2_path = '/content/data2.csv'\n",
        "data3_path = '/content/data3 (1).csv'\n",
        "test_data_path = '/content/modifiedagaintest - test.csv.csv'\n",
        "\n",
        "# Read and process training data\n",
        "data1 = pd.read_csv(data1_path)\n",
        "data2 = pd.read_csv(data2_path).drop(columns=['name'])  # Drop 'name' column immediately\n",
        "data3 = pd.read_csv(data3_path)\n",
        "\n",
        "# Merge all datasets on 'id'\n",
        "train_data = data1.merge(data2, on='id').merge(data3, on='id')\n",
        "\n",
        "# Drop unnecessary columns in one go\n",
        "drop_columns = ['username', 'mail', 'address', 'birthdate', 'sex']\n",
        "train_data = train_data.drop(columns=drop_columns)\n",
        "\n",
        "# Save processed train data\n",
        "train_data.to_csv('modified_train_data.csv', index=False)\n",
        "\n",
        "# Prepare training features (X) and labels (y)\n",
        "X_train = train_data.drop(columns=['Well Being', 'name', 'id'])\n",
        "y_train = train_data['Well Being']\n",
        "\n",
        "# Handle missing values using SimpleImputer with mode strategy\n",
        "imputer = SimpleImputer(strategy='most_frequent')\n",
        "X_train = imputer.fit_transform(X_train)\n",
        "\n",
        "# Split the data into training and validation sets\n",
        "X_train, X_val, y_train, y_val = train_test_split(X_train, y_train, test_size=0.2, random_state=42)\n",
        "\n",
        "# Train the model (RandomForest for now, but can be replaced with XGBoost/LightGBM for better efficiency)\n",
        "clf = RandomForestClassifier()\n",
        "clf.fit(X_train, y_train)\n",
        "\n",
        "# Validate the model\n",
        "y_pred = clf.predict(X_val)\n",
        "accuracy = accuracy_score(y_val, y_pred)\n",
        "print(f'Validation Accuracy: {accuracy}')\n",
        "\n",
        "# Test Data Processing\n",
        "test_data = pd.read_csv(test_data_path)\n",
        "test_data_features = test_data.drop(columns=drop_columns + ['id', 'name'])\n",
        "\n",
        "# Impute missing values in test data using median strategy\n",
        "imputer_median = SimpleImputer(strategy='median')\n",
        "test_data_features = imputer_median.fit_transform(test_data_features)\n",
        "\n",
        "# Predict on test data\n",
        "predictions = clf.predict(test_data_features)\n",
        "\n",
        "# Prepare submission file\n",
        "submission = pd.DataFrame({\n",
        "    'id': test_data['id'],\n",
        "    'Well Being': predictions\n",
        "})\n",
        "\n",
        "# Save to CSV\n",
        "submission.to_csv('submission.csv', index=False)\n"
      ]
    }
  ]
}