{
  "nbformat": 4,
  "nbformat_minor": 0,
  "metadata": {
    "colab": {
      "provenance": []
    },
    "kernelspec": {
      "name": "python3",
      "display_name": "Python 3"
    },
    "language_info": {
      "name": "python"
    }
  },
  "cells": [
    {
      "cell_type": "code",
      "source": [
        "import pandas as pd\n",
        "from sklearn.model_selection import train_test_split, RandomizedSearchCV\n",
        "from sklearn.metrics import accuracy_score\n",
        "from xgboost import XGBClassifier\n",
        "from sklearn.impute import SimpleImputer\n",
        "from sklearn.preprocessing import LabelEncoder"
      ],
      "metadata": {
        "id": "8wrEAiZDR9hH"
      },
      "execution_count": null,
      "outputs": []
    },
    {
      "cell_type": "code",
      "source": [
        "data1_path = '/content/data1.csv'\n",
        "data2_path = '/content/data2.csv'\n",
        "data3_path = '/content/data3 (1).csv'\n",
        "test_data_path = '/content/modifiedagaintest - test.csv.csv'\n",
        "\n",
        "data1 = pd.read_csv(data1_path)\n",
        "data2 = pd.read_csv(data2_path).drop(columns=['name'])  # Drop 'name' column immediately\n",
        "data3 = pd.read_csv(data3_path)"
      ],
      "metadata": {
        "id": "0x3ExebOSCFn"
      },
      "execution_count": null,
      "outputs": []
    },
    {
      "cell_type": "code",
      "source": [
        "train_data = data1.merge(data2, on='id').merge(data3, on='id')\n",
        "drop_columns = ['username', 'mail', 'address', 'birthdate', 'sex']\n",
        "train_data = train_data.drop(columns=drop_columns)\n",
        "train_data.to_csv('modified_train_data.csv', index=False)"
      ],
      "metadata": {
        "id": "spIxphSGSG-_"
      },
      "execution_count": null,
      "outputs": []
    },
    {
      "cell_type": "code",
      "source": [
        "X_train = train_data.drop(columns=['Well Being', 'name', 'id'])\n",
        "y_train = train_data['Well Being']\n",
        "\n",
        "imputer = SimpleImputer(strategy='most_frequent')\n",
        "X_train = imputer.fit_transform(X_train)\n",
        "\n",
        "X_train, X_val, y_train, y_val = train_test_split(X_train, y_train, test_size=0.2, random_state=42)"
      ],
      "metadata": {
        "id": "fhNeCAS9SLNF"
      },
      "execution_count": null,
      "outputs": []
    },
    {
      "cell_type": "code",
      "source": [
        "le = LabelEncoder()\n",
        "y_train = le.fit_transform(y_train)\n",
        "y_val = le.transform(y_val)\n",
        "\n",
        "xgb_clf = XGBClassifier(use_label_encoder=False, eval_metric='mlogloss')\n",
        "\n",
        "param_grid = {\n",
        "    'n_estimators': [100, 200, 500],\n",
        "    'max_depth': [3, 5, 7],\n",
        "    'learning_rate': [0.01, 0.1, 0.3],\n",
        "    'subsample': [0.7, 0.8, 1.0],\n",
        "    'colsample_bytree': [0.7, 0.8, 1.0],\n",
        "    'gamma': [0, 1, 5],\n",
        "}\n",
        "\n",
        "random_search = RandomizedSearchCV(xgb_clf, param_distributions=param_grid, n_iter=10, scoring='accuracy', cv=3, random_state=42, n_jobs=-1)\n",
        "random_search.fit(X_train, y_train)"
      ],
      "metadata": {
        "id": "cXVEfII_SWJt"
      },
      "execution_count": null,
      "outputs": []
    },
    {
      "cell_type": "code",
      "source": [
        "best_xgb_clf = random_search.best_estimator_\n",
        "\n",
        "y_pred = best_xgb_clf.predict(X_val)\n",
        "accuracy = accuracy_score(y_val, y_pred)\n",
        "print(f'Validation Accuracy: {accuracy}')"
      ],
      "metadata": {
        "id": "bcsvsmHwSZIJ"
      },
      "execution_count": null,
      "outputs": []
    },
    {
      "cell_type": "code",
      "source": [
        "test_data = pd.read_csv(test_data_path)\n",
        "test_data_features = test_data.drop(columns=drop_columns + ['id', 'name'])\n",
        "\n",
        "imputer_median = SimpleImputer(strategy='median')\n",
        "test_data_features = imputer_median.fit_transform(test_data_features)\n",
        "\n",
        "predictions = best_xgb_clf.predict(test_data_features)"
      ],
      "metadata": {
        "id": "9G9VhZpoSeNU"
      },
      "execution_count": null,
      "outputs": []
    },
    {
      "cell_type": "code",
      "execution_count": null,
      "metadata": {
        "colab": {
          "base_uri": "https://localhost:8080/"
        },
        "id": "ehWNqOtsnFSf",
        "outputId": "f5a00ad2-04b4-4e1d-edc3-5dd5926722c8"
      },
      "outputs": [
        {
          "output_type": "stream",
          "name": "stderr",
          "text": [
            "/usr/local/lib/python3.10/dist-packages/xgboost/core.py:158: UserWarning: [04:27:14] WARNING: /workspace/src/learner.cc:740: \n",
            "Parameters: { \"use_label_encoder\" } are not used.\n",
            "\n",
            "  warnings.warn(smsg, UserWarning)\n"
          ]
        },
        {
          "output_type": "stream",
          "name": "stdout",
          "text": [
            "Validation Accuracy: 0.9301692701246395\n"
          ]
        }
      ],
      "source": [
        "predictions_labels = le.inverse_transform(predictions)\n",
        "submission = pd.DataFrame({\n",
        "    'id': test_data['id'],\n",
        "    'Well Being': predictions_labels\n",
        "})\n",
        "submission.to_csv('submission_3.csv', index=False)"
      ]
    },
    {
      "cell_type": "code",
      "source": [],
      "metadata": {
        "id": "MZ-GGHP_vmSc"
      },
      "execution_count": null,
      "outputs": []
    }
  ]
}